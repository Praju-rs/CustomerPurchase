{
 "cells": [
  {
   "cell_type": "markdown",
   "id": "2e617a7d",
   "metadata": {},
   "source": [
    "# Problem Statement"
   ]
  },
  {
   "cell_type": "markdown",
   "id": "f3b4c39a",
   "metadata": {},
   "source": [
    "The aim to build a predictive model that Customer Purchase or Not.\n",
    "Applied several techniques of Data preprocessing, Feature Engineering , Feature Selection and Machine Learning models."
   ]
  },
  {
   "cell_type": "markdown",
   "id": "3c648857",
   "metadata": {},
   "source": [
    "In that dataset, first step was to split it into training and test data. \n",
    "With a total of 2240 observations, Decided that 80% of those (1792 observations) \n",
    "would constitute the training set, and the remaining 20% (448 observations) would \n",
    "integrate the test set. "
   ]
  },
  {
   "cell_type": "markdown",
   "id": "c30f4291",
   "metadata": {},
   "source": [
    "# Accuracy"
   ]
  },
  {
   "cell_type": "markdown",
   "id": "3d483999",
   "metadata": {},
   "source": [
    "                               accuracy_train\taccuracy_test\n",
    "logistic_reg\t                    0.856027\t0.843750\n",
    "logistic_after_oversampling\t        0.697934\t0.720839\n",
    "KNN_Model_Normalization\t            0.780692\t0.767857\n",
    "KNN_Model_Normal_with_hyp\t        0.856585\t0.834821\n",
    "Decision_Tree\t                    1.000000\t0.821429\n",
    "Decision_Tree_With_Hyper\t        0.900670\t0.859375\n",
    "RandoM_Forest\t                    0.900670\t0.870536\n",
    "Random_Forest_with_hyp(rscv)\t    0.917969\t0.870536\n",
    "Adaboost\t                        0.906808\t0.881696\n",
    "Adaboost_with_hyp(rscv)      \t    0.905692\t0.859375"
   ]
  }
 ],
 "metadata": {
  "kernelspec": {
   "display_name": "Python 3 (ipykernel)",
   "language": "python",
   "name": "python3"
  },
  "language_info": {
   "codemirror_mode": {
    "name": "ipython",
    "version": 3
   },
   "file_extension": ".py",
   "mimetype": "text/x-python",
   "name": "python",
   "nbconvert_exporter": "python",
   "pygments_lexer": "ipython3",
   "version": "3.9.12"
  }
 },
 "nbformat": 4,
 "nbformat_minor": 5
}
